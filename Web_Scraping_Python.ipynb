{
  "nbformat": 4,
  "nbformat_minor": 0,
  "metadata": {
    "colab": {
      "name": "Web_Scraping_Python",
      "provenance": [],
      "collapsed_sections": [],
      "authorship_tag": "ABX9TyPV/8r4FJNOxbwnA/tEAT+m",
      "include_colab_link": true
    },
    "kernelspec": {
      "name": "python3",
      "display_name": "Python 3"
    }
  },
  "cells": [
    {
      "cell_type": "markdown",
      "metadata": {
        "id": "view-in-github",
        "colab_type": "text"
      },
      "source": [
        "<a href=\"https://colab.research.google.com/github/zumaia/python/blob/master/Web_Scraping_Python.ipynb\" target=\"_parent\"><img src=\"https://colab.research.google.com/assets/colab-badge.svg\" alt=\"Open In Colab\"/></a>"
      ]
    },
    {
      "cell_type": "markdown",
      "metadata": {
        "id": "caGGNRn2Fq3E",
        "colab_type": "text"
      },
      "source": [
        "# Web Scraping con Python: Guía Paso a Paso\n",
        "\n",
        "\n",
        "## Introducción\n",
        "\n",
        "El web scraping es una técnica que podría ayudarnos a transformar datos HTML no estructurados en datos estructurados en una hoja de cálculo o base de datos. Además de usar Python para escribir códigos, acceder a los datos del sitio web con API o data extraction herramientas como Octoparse son otras opciones alternativas para el web scraping.\n",
        "\n",
        "Para algunos sitios web grandes como Airbnb o Twitter, proporcionarían API para que los desarrolladores accedan a sus datos. API significa interfaz de programación de aplicaciones, que es el acceso para que dos aplicaciones se comuniquen entre sí. Para la mayoría de las personas, API es el enfoque más óptimo para obtener datos proporcionados por el propio sitio web.\n",
        "\n",
        "Sin embargo, la mayoría de los sitios web no tienen servicios API. A veces, incluso si proporcionan API, los datos que podría obtener no son los que desea. Por lo tanto, escribir una secuencia de comandos de Python para crear un rastreador web se convierte en otra solución poderosa y flexible.\n",
        "\n",
        "Entonces, ¿Por qué deberíamos usar python en lugar de otros idiomas?\n",
        "\n",
        "    Flexibilidad: Como sabemos, los sitios web se actualizan rápidamente. No solo el contenido sino también la estructura web cambiarían con frecuencia. Python es un lenguaje fácil de usar porque es dinámicamente imputable y altamente productivo. Por lo tanto, las personas pueden cambiar su código fácilmente y mantenerse al día con la velocidad de las actualizaciones web.\n",
        "    Potente: Python tiene una gran colección de bibliotecas maduras. Por ejemplo, las solicitudes, beautifulsoup4 podrían ayudarnos a obtener URL y extraer información de las páginas web. Selenium podría ayudarnos a evitar algunas técnicas anti-scraping al dar a los rastreadores web la capacidad de imitar comportamientos de navegación humanos. Además, re, numpy y pandas podrían ayudarnos a limpiar y procesar los datos.\n",
        "\n",
        "¡Ahora comencemos nuestro viaje en web scraping usando Python!\n",
        "\n",
        "## Paso 1: Importar la biblioteca de Python\n",
        "\n",
        "En este tutorial, le mostraremos cómo scrape las reseñas de Yelp. Utilizaremos dos bibliotecas: BeautifulSoup en bs4 y request en urllib. Estas dos bibliotecas se usan comúnmente en la construcción de un rastreador web con Python. El primer paso es importar estas dos bibliotecas en Python para que podamos usar las funciones en estas bibliotecas."
      ]
    },
    {
      "cell_type": "code",
      "metadata": {
        "id": "ASC2VM5rFn17",
        "colab_type": "code",
        "colab": {}
      },
      "source": [
        "# import packages\n",
        "from bs4 import BeautifulSoup\n",
        "import urllib.request"
      ],
      "execution_count": 1,
      "outputs": []
    },
    {
      "cell_type": "markdown",
      "metadata": {
        "id": "fVHAt9PyGFia",
        "colab_type": "text"
      },
      "source": [
        "# Paso 2: Extraer el HTML de la página web\n",
        "\n",
        "Necesitamos extraer comentarios de “https://www.yelp.com/biz/milk-and-cream-cereal-bar-new-york?osq=Ice+Cream”. Primero, guardemos la URL en una variable llamada URL. Entonces podríamos acceder al contenido de esta página web y guardar el HTML en “ourUrl” utilizando la función urlopen() en la solicitud."
      ]
    },
    {
      "cell_type": "code",
      "metadata": {
        "id": "qUUr0K3UGTs2",
        "colab_type": "code",
        "colab": {}
      },
      "source": [
        "# the targeted URL\n",
        "url = \"https://www.yelp.com/biz/milk-and-cream-cereal-bar-new-york?osq=Ice+Cream\""
      ],
      "execution_count": 2,
      "outputs": []
    },
    {
      "cell_type": "code",
      "metadata": {
        "id": "uFceyhVHGm8a",
        "colab_type": "code",
        "colab": {}
      },
      "source": [
        "#use request to open the URL\n",
        "ourUrl = urllib.request.urlopen(url)"
      ],
      "execution_count": 3,
      "outputs": []
    },
    {
      "cell_type": "markdown",
      "metadata": {
        "id": "0YcXu-rMGwFm",
        "colab_type": "text"
      },
      "source": [
        "Luego aplicamos BeautifulSoup para analizar la página."
      ]
    },
    {
      "cell_type": "code",
      "metadata": {
        "id": "7N-KtncIGxgU",
        "colab_type": "code",
        "colab": {}
      },
      "source": [
        "# create a BeautifulSoup object, which represents the documents as a nested data\n",
        "# structure parse the page\n",
        "soup = BeautifulSoup(ourUrl, \"html.parser\")"
      ],
      "execution_count": 4,
      "outputs": []
    },
    {
      "cell_type": "markdown",
      "metadata": {
        "id": "VbAlfvipHFhS",
        "colab_type": "text"
      },
      "source": [
        "Ahora que tenemos la “soup”, que es el HTML sin formato para este sitio web, podríamos usar una función llamada prettify() para limpiar los datos sin procesar e imprimirla para ver la estructura anidada de HTML en la “soup”."
      ]
    },
    {
      "cell_type": "code",
      "metadata": {
        "id": "rPhuGH1NHG4a",
        "colab_type": "code",
        "colab": {}
      },
      "source": [
        "# to see what inside the soup\n",
        "# print(soup.prettify())"
      ],
      "execution_count": 5,
      "outputs": []
    },
    {
      "cell_type": "markdown",
      "metadata": {
        "id": "m1e5F0HJHQtv",
        "colab_type": "text"
      },
      "source": [
        "# Paso 3: Ubica y Scraping las reseñas\n",
        "\n",
        "A continuación, deberíamos encontrar las reseñas HTML en esta página web, extraerlas y almacenarlas. Para cada elemento en la página web, siempre tendrían una “ID” HTML única. Para verificar su ID, necesitaríamos INSPECT en una página web."
      ]
    },
    {
      "cell_type": "markdown",
      "metadata": {
        "id": "H7-S_MNtKhha",
        "colab_type": "text"
      },
      "source": [
        "Después de hacer clic en “Inspeccionar elemento” (o “Inspeccionar”, depende de diferentes navegadores), podemos ver el HTML de las revisiones."
      ]
    },
    {
      "cell_type": "code",
      "metadata": {
        "id": "h2jC8smQHQa-",
        "colab_type": "code",
        "colab": {
          "base_uri": "https://localhost:8080/",
          "height": 819
        },
        "outputId": "d5c47f80-518c-4048-c4a7-9144d3353b2e"
      },
      "source": [
        "review=[] # create an empty list to store reviews\n",
        "for i in soup.find_all(\"div\", {\"class\":\"lemon--div__373c0__1mboc margin-b2__373c0__abANL border-color--default__373c0__3-ifU\"}):\n",
        "  per_review=i.find(\"p\") # extract review\n",
        "  print(per_review)\n",
        "  review.append(per_review) # append review"
      ],
      "execution_count": 6,
      "outputs": [
        {
          "output_type": "stream",
          "text": [
            "None\n",
            "None\n",
            "None\n",
            "None\n",
            "<p class=\"lemon--p__373c0__3Qnnj text__373c0__2Kxyz comment__373c0__3EKjH text-color--normal__373c0__3xep9 text-align--left__373c0__2XGa-\"><span class=\"lemon--span__373c0__3997G raw__373c0__3rKqk\" lang=\"en\">One of my favorite cereal icecream places. I'm a huge cereal and icecream/froyo fan so I've tried all the ones in the area, including the famous milk bar cereal soft serve. None compare.<br/>For starters they have every single cereal you could ever want to make a custom sundae. They grind whatever you choose into the soft serve which truly encompasses the flavor throughout. Then if that wasn't already good enough- you get to add more cereal to the top! (And whatever other toppings you choose)<br/>I have also had the pre created sundae combos which are also equally delicious. <br/><br/>Ends up costing around $8 but is a large portion (have shared with my sister). I have/ will continue to go back.</span></p>\n",
            "None\n",
            "<p class=\"lemon--p__373c0__3Qnnj text__373c0__2Kxyz comment__373c0__3EKjH text-color--normal__373c0__3xep9 text-align--left__373c0__2XGa-\"><span class=\"lemon--span__373c0__3997G raw__373c0__3rKqk\" lang=\"en\">During COVID: I've had Milk &amp; cream on my radar for months now and finally had a chance to stop by. They are open during quarantine. <br/><br/>I ordered a vanilla based cone with Cookie Crisp and Reese's puffs with crushed M&amp;M topping (3.5/5). Was it good? Yes. But it wasn't memorable enough for me to crave it again. I also didn't realize that they actually blend the cereal into the ice cream. I do typically like cereal as a topping.<br/><br/>My partner got the frooty special cone, which I must admit I was not a fan. Its taste was too much like artificial grape and it's a big minus when I see gummies as a topping on ice cream due to it becoming very hard and unpleasant to eat.<br/><br/>I personally like the ice cream at Soft Swerve much more as I love taro ice cream. That being said, if you are looking for an instagramable cereal soft serve fix, this will definitely hit it.</span></p>\n",
            "<p class=\"lemon--p__373c0__3Qnnj text__373c0__2Kxyz comment__373c0__3EKjH text-color--normal__373c0__3xep9 text-align--left__373c0__2XGa-\"><span class=\"lemon--span__373c0__3997G raw__373c0__3rKqk\" lang=\"en\">Argh, if you're looking some fulfilling dessert with your favorite cereal, you came to the right place. Honestly they give so much I rarely finish it which is why I absolutely loveee Milk &amp; Cream. Their service is amazing and toppings is just super delicious, it's my kids favorite spot to go to the city. They're also constantly thinking of way to make new flavors and bringing something new to the table. If you're a tourist, this is definitely an amazing spot to visit. <br/><br/>Would I recommend this place to my friends? 100% to strangers as well.</span></p>\n",
            "None\n",
            "<p class=\"lemon--p__373c0__3Qnnj text__373c0__2Kxyz comment__373c0__3EKjH text-color--normal__373c0__3xep9 text-align--left__373c0__2XGa-\"><span class=\"lemon--span__373c0__3997G raw__373c0__3rKqk\" lang=\"en\">I really enjoy coming here every now and then. They have a really great set up currently, you go to the front and just order your ice cream. They have various cereal options and toppings. I ended up getting the lucky charms ice cream blended with vanilla ice cream and topped it off with rainbow sprinkles . <br/>The ice cream was fantastic!</span></p>\n",
            "None\n",
            "<p class=\"lemon--p__373c0__3Qnnj text__373c0__2Kxyz comment__373c0__3EKjH text-color--normal__373c0__3xep9 text-align--left__373c0__2XGa-\"><span class=\"lemon--span__373c0__3997G raw__373c0__3rKqk\" lang=\"en\">This place is amazing!! The idea is so original and the ice cream is so delicious. The serving is HUGE. My friends and I had planned to go to another restaurant after stopping here, but we were too full after the ice cream to even get more food. The price is extremely cheap for the amount of ice cream and toppings we got. I would definitely split one with a friend if I were to go again. The hype was well deserved!!</span></p>\n",
            "None\n",
            "<p class=\"lemon--p__373c0__3Qnnj text__373c0__2Kxyz comment__373c0__3EKjH text-color--normal__373c0__3xep9 text-align--left__373c0__2XGa-\"><span class=\"lemon--span__373c0__3997G raw__373c0__3rKqk\" lang=\"en\">I truly love the idea of make-your-own ice cream so when I heard about this place, it immediately went on my list!<br/><br/>We showed up on a warm, weekend evening, so of course, there was a line out the door (literally). But we waited, because that's how bad I wanted to try it.<br/><br/>It was seriously difficult coming up with a combination that (1) included everything I wanted but (2) also went well together. I finally picked a combination of cinnamon toast crunch and captain crunch, topped with chocolate cookie crunch and honey drizzle.<br/><br/>I thought the ice cream was delicious but somehow the combination did not do anything outstanding. Maybe if I go back I will just choose one of their recommended combinations instead of making my own. I will also return when the hype about this place has settled down and the lines are a bit smaller.</span></p>\n",
            "None\n",
            "<p class=\"lemon--p__373c0__3Qnnj text__373c0__2Kxyz comment__373c0__3EKjH text-color--normal__373c0__3xep9 text-align--left__373c0__2XGa-\"><span class=\"lemon--span__373c0__3997G raw__373c0__3rKqk\" lang=\"en\">Ordered the cookie carnival and cocoa dough. Even though the cookie carnival is their most poplar item, I actually preferred the cocoa dough. Their base is super creamy like custard. It goes to say though that you can't go wrong with any of their choices!!</span></p>\n",
            "None\n",
            "<p class=\"lemon--p__373c0__3Qnnj text__373c0__2Kxyz comment__373c0__3EKjH text-color--normal__373c0__3xep9 text-align--left__373c0__2XGa-\"><span class=\"lemon--span__373c0__3997G raw__373c0__3rKqk\" lang=\"en\">Cool and cute dessert spot in Chinatown that offers cereal ice cream! They have little screens replaying scenes from childhood cartoons like adventure time, power puff girls, family guy, and rick and morty. They have about 3-4 small tables and a bar seating area where you can watch them make the concoctions. They also have containers of cereal around their walls so it feels pretty nostalgic looking at all of them. I got the frooty berry bliss which is fruit loops mixed with strawberries and blueberries topped with fruity pebbles and gummy bears. It was $8.50 for a cup of that but they can make it into a cone or a milkshake as well. If you're a cereal fan you'll definitely like this spot!</span></p>\n",
            "None\n",
            "<p class=\"lemon--p__373c0__3Qnnj text__373c0__2Kxyz comment__373c0__3EKjH text-color--normal__373c0__3xep9 text-align--left__373c0__2XGa-\"><span class=\"lemon--span__373c0__3997G raw__373c0__3rKqk\" lang=\"en\">OMG this is the best soft serve I've EVER had &amp; that's coming from a loyal ice cream girl. <br/>This place is the cutest little shop with modern mint green and gold accents, perfect for your next photoshoot! We sat in the front area and it felt very private despite being right by the doorway. <br/><br/>The Froot Berry Bliss -- Absolutely the best bang for your buck!<br/><br/>The girl who helped us out recommended this in the green fruity pebble waffle cone and it was DE-LI-CIOUS. You'd think something this fruitilicious would be overwhelming and too sweet but this is something I would definitely come back to NYC just to taste again. It had the perfect balance of fruity and creamy goodness that hits the spot. For $7 you get a heaping swirl of berry-infused soft serve, speckled with gummy bears and dusted with froot loop crumble. This was the perfect after-dinner dessert to share with my boyfriend.<br/><br/>I'm not a big fan of soft serve cause I like texture to my frozen desserts, but this is definitely an exception. I could go on for days talking about this place but I'll let you be the judge! If you're in the neighborhood or coming to visit NYC, definitely stop by Milk &amp; Cream!</span></p>\n",
            "None\n",
            "<p class=\"lemon--p__373c0__3Qnnj text__373c0__2Kxyz comment__373c0__3EKjH text-color--normal__373c0__3xep9 text-align--left__373c0__2XGa-\"><span class=\"lemon--span__373c0__3997G raw__373c0__3rKqk\" lang=\"en\">LOVE this place!<br/>I've walked by this place a few times, and never actually bought something because I was thinking ... ice cream and cereal?...yeah sure -i can do that at home. I was blown away though when I finally tried one of the Blended Specials - the Fruit Berry Bliss, which was Fruit Loops blended with strawberries and blueberries topped with gummy bears. Think of it as a Blizzard or Mcflurry but with a better lighter texture, and more fun to eat. <br/>Definitely recommend this place!</span></p>\n",
            "None\n",
            "<p class=\"lemon--p__373c0__3Qnnj text__373c0__2Kxyz comment__373c0__3EKjH text-color--normal__373c0__3xep9 text-align--left__373c0__2XGa-\"><span class=\"lemon--span__373c0__3997G raw__373c0__3rKqk\" lang=\"en\">One of the most unique and delicious soft serve places I've tried! Conveniently located right next to Little Italy, Milk and Cream is a great place to hit up after a meal. I also love their cute interior and iconic statement decor pieces like their neon sign and wallpaper.<br/><br/>My friend and I shared a cup; we blended Fruit Loops with vanilla for the base of our soft serve, and ordered blueberries and strawberry drizzle as our toppings. The only downside was the price, which was a bit pricier (~$9) for the size; though since each soft serve flavor is blended on the spot for each customer, I can see why it's a bit more expensive.<br/><br/>Overall, definitely an iconic spot to hit up in the Little Italy area.</span></p>\n",
            "None\n",
            "<p class=\"lemon--p__373c0__3Qnnj text__373c0__2Kxyz comment__373c0__3EKjH text-color--normal__373c0__3xep9 text-align--left__373c0__2XGa-\"><span class=\"lemon--span__373c0__3997G raw__373c0__3rKqk\" lang=\"en\">One of my friends recommended this place after she went on her honeymoon. We had a short trip to NYC and added this on our list. Highly recommend; the flavor was so delicious! The workers were all so friendly and helpful! I got the Banana Cream and it was so good! Cannot wait to go back here one day!</span></p>\n",
            "None\n",
            "<p class=\"lemon--p__373c0__3Qnnj text__373c0__2Kxyz comment__373c0__3EKjH text-color--normal__373c0__3xep9 text-align--left__373c0__2XGa-\"><span class=\"lemon--span__373c0__3997G raw__373c0__3rKqk\" lang=\"en\">Easily my favorite ice cream joint in Chinatown, maybe even in the entire Lower East Side. Have been probably a dozen times ever since it opened up. Fantastic flavors all from cereal embedded into your ice cream, what's not to like?<br/><br/>My personal favorite is Capn Crunch with Vanilla, drizzled with honey and topped off with teddy grahams. They also have really good signature options like their Fruity Loops one. There's one that's pretty much peanut butter and jelly in ice cream form that is on top of my list too but cannot remember what it's called.<br/><br/>One thing I want to point out is if you construct your own ice cream in a cup/cone, the size it comes in is smaller (but also less costly). When this place first opened, I would order off the signature menu, but they come in a larger size and I had to wonder to myself if a relatively big person like me can't finish this cup, how is someone smaller going to tackle it? Well now I know.</span></p>\n",
            "None\n",
            "<p class=\"lemon--p__373c0__3Qnnj text__373c0__2Kxyz comment__373c0__3EKjH text-color--normal__373c0__3xep9 text-align--left__373c0__2XGa-\"><span class=\"lemon--span__373c0__3997G raw__373c0__3rKqk\" lang=\"en\">As I sit, I decided to write a brief review about my experience here. The service goes above and beyond the usual ice cream shops. What had me is the cereal; you can actually eat cereal in a bowl with milk. I really love this place. <br/><br/>The restrooms were immaculate and they smelled clean. You could add a plugin for extra freshness. But other than that I had no complaints. The servers were patient and polite about me being indecisive about ALL the choices! <br/><br/>XOXOXOXO.</span></p>\n",
            "None\n",
            "<p class=\"lemon--p__373c0__3Qnnj text__373c0__2Kxyz comment__373c0__3EKjH text-color--normal__373c0__3xep9 text-align--left__373c0__2XGa-\"><span class=\"lemon--span__373c0__3997G raw__373c0__3rKqk\" lang=\"en\">Updated: always go for the customized cups/cones. As much as the specials looked like the better deal, some of them can be overwhelming of sweetness and portion. <br/><br/>Fruity pebbles blended with vanilla, strawberry topping with strawberry drizzle has been my go to. I have brought many of my friends here and suggested this. <br/><br/>First impressions aren't always what it seems, or in this case, what it always taste like.</span></p>\n",
            "None\n",
            "<p class=\"lemon--p__373c0__3Qnnj text__373c0__2Kxyz comment__373c0__3EKjH text-color--normal__373c0__3xep9 text-align--left__373c0__2XGa-\"><span class=\"lemon--span__373c0__3997G raw__373c0__3rKqk\" lang=\"en\">This was such a cute ice cream shop. Two great things put together, ice cream and cereal. I love the concept, the different cartoons playing on different small screens on the wall was entertaining. I got the cookie crisp carnival! The staff was super friendly and helpful. I thought my cone came with cookie crisp cereal on top and once they saw I wasn't 100% happy with my order they asked if everything was okay , and then added the cereal on top for me. Thank you guys! I had a great time here :) can't wait to come back</span></p>\n",
            "None\n",
            "<p class=\"lemon--p__373c0__3Qnnj text__373c0__2Kxyz comment__373c0__3EKjH text-color--normal__373c0__3xep9 text-align--left__373c0__2XGa-\"><span class=\"lemon--span__373c0__3997G raw__373c0__3rKqk\" lang=\"en\">Super tasty ice cream. I mean what else can I add to everyone else's review? It's all true! I tell all of my first time New Yorker friends to go here for dessert.</span></p>\n",
            "None\n",
            "<p class=\"lemon--p__373c0__3Qnnj text__373c0__2Kxyz comment__373c0__3EKjH text-color--normal__373c0__3xep9 text-align--left__373c0__2XGa-\"><span class=\"lemon--span__373c0__3997G raw__373c0__3rKqk\" lang=\"en\">Must try: Froot Berry Bliss!<br/><br/>Why: I got all my favorite cereals (Fruit Loops, Fruity Peebles, and Trix) mixed in the ice cream with strawberries and blueberries topped with Gummy Bears! It was large and I couldn't finish one myself so come to share. <br/><br/>Note: Great service - the workers were all smiling and helpful. Neat setup inside with fun decor and various seating (diner style plus tables and seats/benches).</span></p>\n",
            "<p class=\"lemon--p__373c0__3Qnnj text__373c0__2Kxyz comment__373c0__3EKjH text-color--normal__373c0__3xep9 text-align--left__373c0__2XGa-\"><span class=\"lemon--span__373c0__3997G raw__373c0__3rKqk\" lang=\"en\">Innovative way to get ice cream, with a cereal of your choice being crushed in it and yummy toppings to choose from. I got a standard cup and it costed me almost $9. I didn't think it was anything to write home about, so I don't think I'll be going back.</span></p>\n",
            "None\n",
            "<p class=\"lemon--p__373c0__3Qnnj text__373c0__2Kxyz comment__373c0__3EKjH text-color--normal__373c0__3xep9 text-align--left__373c0__2XGa-\"><span class=\"lemon--span__373c0__3997G raw__373c0__3rKqk\" lang=\"en\">Beautiful retro looking shop that serves innovative ice cream with the nostalgia of cereals. Generous portions for the price. Satisfying ice cream so bring some friends and enjoy. Owners are from the area and super nice and glad to see they will be expanding to NJ.</span></p>\n",
            "None\n",
            "None\n",
            "None\n",
            "None\n"
          ],
          "name": "stdout"
        }
      ]
    },
    {
      "cell_type": "markdown",
      "metadata": {
        "id": "_HUw3ijlNX2V",
        "colab_type": "text"
      },
      "source": [
        "Ahora tenemos todas las reseñas de esa página. Veamos cuántas reseñas hemos extraído."
      ]
    },
    {
      "cell_type": "code",
      "metadata": {
        "id": "_5afwAvYNiII",
        "colab_type": "code",
        "colab": {
          "base_uri": "https://localhost:8080/",
          "height": 34
        },
        "outputId": "396971b8-a7f1-4ea5-d0e1-08462c0e9ba3"
      },
      "source": [
        "len(review) # how many reviews we collect\n"
      ],
      "execution_count": 7,
      "outputs": [
        {
          "output_type": "execute_result",
          "data": {
            "text/plain": [
              "45"
            ]
          },
          "metadata": {
            "tags": []
          },
          "execution_count": 7
        }
      ]
    },
    {
      "cell_type": "markdown",
      "metadata": {
        "id": "GfiWH-R_Nly_",
        "colab_type": "text"
      },
      "source": [
        "# Paso 4: Limpia las reseñas\n",
        "\n",
        "Debe tener en cuenta que todavía hay algunos textos inútiles como “<p lang=’en’>” al comienzo de cada revisión, “<br/>” en el medio de las revisiones y “</p>” en Fin de cada revisión.\n",
        "\n",
        "“<br/>” representa un salto de línea simple. No necesitamos ningún salto de línea en las revisiones, por lo que tendremos que eliminarlos. Además, “<p lang=’en’>” y “</p>” son el principio y el final del HTML y también debemos eliminarlos."
      ]
    },
    {
      "cell_type": "code",
      "metadata": {
        "id": "Ct-k7numNod5",
        "colab_type": "code",
        "colab": {
          "base_uri": "https://localhost:8080/",
          "height": 819
        },
        "outputId": "79559282-f120-47fa-9722-370feac5705e"
      },
      "source": [
        "# Limpieza básica\n",
        "New_review=[]  # create an empty list to store new reviews\n",
        "for each in review:\n",
        "  new_each=str(each).replace(\"<br>\",\"\") #remove <br/> with empy, which means delete\n",
        "  new_each=str(each).replace(\"<br/>\",\"\")\n",
        "  new_each=new_each[207:-12]  #elimina los primeros 13 string y los últimos 4,\n",
        "                            #los cuales son >p lang='en' > y </p>\n",
        "  print (new_each)\n",
        "  New_review.append(new_each)"
      ],
      "execution_count": 8,
      "outputs": [
        {
          "output_type": "stream",
          "text": [
            "\n",
            "\n",
            "\n",
            "\n",
            "One of my favorite cereal icecream places. I'm a huge cereal and icecream/froyo fan so I've tried all the ones in the area, including the famous milk bar cereal soft serve. None compare.For starters they have every single cereal you could ever want to make a custom sundae. They grind whatever you choose into the soft serve which truly encompasses the flavor throughout. Then if that wasn't already good enough- you get to add more cereal to the top! (And whatever other toppings you choose)I have also had the pre created sundae combos which are also equally delicious. Ends up costing around $8 but is a large portion (have shared with my sister). I have/ will continue to go back\n",
            "\n",
            "During COVID: I've had Milk &amp; cream on my radar for months now and finally had a chance to stop by. They are open during quarantine. I ordered a vanilla based cone with Cookie Crisp and Reese's puffs with crushed M&amp;M topping (3.5/5). Was it good? Yes. But it wasn't memorable enough for me to crave it again. I also didn't realize that they actually blend the cereal into the ice cream. I do typically like cereal as a topping.My partner got the frooty special cone, which I must admit I was not a fan. Its taste was too much like artificial grape and it's a big minus when I see gummies as a topping on ice cream due to it becoming very hard and unpleasant to eat.I personally like the ice cream at Soft Swerve much more as I love taro ice cream. That being said, if you are looking for an instagramable cereal soft serve fix, this will definitely hit it\n",
            "Argh, if you're looking some fulfilling dessert with your favorite cereal, you came to the right place. Honestly they give so much I rarely finish it which is why I absolutely loveee Milk &amp; Cream. Their service is amazing and toppings is just super delicious, it's my kids favorite spot to go to the city. They're also constantly thinking of way to make new flavors and bringing something new to the table. If you're a tourist, this is definitely an amazing spot to visit. Would I recommend this place to my friends? 100% to strangers as well\n",
            "\n",
            "I really enjoy coming here every now and then. They have a really great set up currently, you go to the front and just order your ice cream. They have various cereal options and toppings. I ended up getting the lucky charms ice cream blended with vanilla ice cream and topped it off with rainbow sprinkles . The ice cream was fantastic\n",
            "\n",
            "This place is amazing!! The idea is so original and the ice cream is so delicious. The serving is HUGE. My friends and I had planned to go to another restaurant after stopping here, but we were too full after the ice cream to even get more food. The price is extremely cheap for the amount of ice cream and toppings we got. I would definitely split one with a friend if I were to go again. The hype was well deserved!\n",
            "\n",
            "I truly love the idea of make-your-own ice cream so when I heard about this place, it immediately went on my list!We showed up on a warm, weekend evening, so of course, there was a line out the door (literally). But we waited, because that's how bad I wanted to try it.It was seriously difficult coming up with a combination that (1) included everything I wanted but (2) also went well together. I finally picked a combination of cinnamon toast crunch and captain crunch, topped with chocolate cookie crunch and honey drizzle.I thought the ice cream was delicious but somehow the combination did not do anything outstanding. Maybe if I go back I will just choose one of their recommended combinations instead of making my own. I will also return when the hype about this place has settled down and the lines are a bit smaller\n",
            "\n",
            "Ordered the cookie carnival and cocoa dough. Even though the cookie carnival is their most poplar item, I actually preferred the cocoa dough. Their base is super creamy like custard. It goes to say though that you can't go wrong with any of their choices!\n",
            "\n",
            "Cool and cute dessert spot in Chinatown that offers cereal ice cream! They have little screens replaying scenes from childhood cartoons like adventure time, power puff girls, family guy, and rick and morty. They have about 3-4 small tables and a bar seating area where you can watch them make the concoctions. They also have containers of cereal around their walls so it feels pretty nostalgic looking at all of them. I got the frooty berry bliss which is fruit loops mixed with strawberries and blueberries topped with fruity pebbles and gummy bears. It was $8.50 for a cup of that but they can make it into a cone or a milkshake as well. If you're a cereal fan you'll definitely like this spot\n",
            "\n",
            "OMG this is the best soft serve I've EVER had &amp; that's coming from a loyal ice cream girl. This place is the cutest little shop with modern mint green and gold accents, perfect for your next photoshoot! We sat in the front area and it felt very private despite being right by the doorway. The Froot Berry Bliss -- Absolutely the best bang for your buck!The girl who helped us out recommended this in the green fruity pebble waffle cone and it was DE-LI-CIOUS. You'd think something this fruitilicious would be overwhelming and too sweet but this is something I would definitely come back to NYC just to taste again. It had the perfect balance of fruity and creamy goodness that hits the spot. For $7 you get a heaping swirl of berry-infused soft serve, speckled with gummy bears and dusted with froot loop crumble. This was the perfect after-dinner dessert to share with my boyfriend.I'm not a big fan of soft serve cause I like texture to my frozen desserts, but this is definitely an exception. I could go on for days talking about this place but I'll let you be the judge! If you're in the neighborhood or coming to visit NYC, definitely stop by Milk &amp; Cream\n",
            "\n",
            "LOVE this place!I've walked by this place a few times, and never actually bought something because I was thinking ... ice cream and cereal?...yeah sure -i can do that at home. I was blown away though when I finally tried one of the Blended Specials - the Fruit Berry Bliss, which was Fruit Loops blended with strawberries and blueberries topped with gummy bears. Think of it as a Blizzard or Mcflurry but with a better lighter texture, and more fun to eat. Definitely recommend this place\n",
            "\n",
            "One of the most unique and delicious soft serve places I've tried! Conveniently located right next to Little Italy, Milk and Cream is a great place to hit up after a meal. I also love their cute interior and iconic statement decor pieces like their neon sign and wallpaper.My friend and I shared a cup; we blended Fruit Loops with vanilla for the base of our soft serve, and ordered blueberries and strawberry drizzle as our toppings. The only downside was the price, which was a bit pricier (~$9) for the size; though since each soft serve flavor is blended on the spot for each customer, I can see why it's a bit more expensive.Overall, definitely an iconic spot to hit up in the Little Italy area\n",
            "\n",
            "One of my friends recommended this place after she went on her honeymoon. We had a short trip to NYC and added this on our list. Highly recommend; the flavor was so delicious! The workers were all so friendly and helpful! I got the Banana Cream and it was so good! Cannot wait to go back here one day\n",
            "\n",
            "Easily my favorite ice cream joint in Chinatown, maybe even in the entire Lower East Side. Have been probably a dozen times ever since it opened up. Fantastic flavors all from cereal embedded into your ice cream, what's not to like?My personal favorite is Capn Crunch with Vanilla, drizzled with honey and topped off with teddy grahams. They also have really good signature options like their Fruity Loops one. There's one that's pretty much peanut butter and jelly in ice cream form that is on top of my list too but cannot remember what it's called.One thing I want to point out is if you construct your own ice cream in a cup/cone, the size it comes in is smaller (but also less costly). When this place first opened, I would order off the signature menu, but they come in a larger size and I had to wonder to myself if a relatively big person like me can't finish this cup, how is someone smaller going to tackle it? Well now I know\n",
            "\n",
            "As I sit, I decided to write a brief review about my experience here. The service goes above and beyond the usual ice cream shops. What had me is the cereal; you can actually eat cereal in a bowl with milk. I really love this place. The restrooms were immaculate and they smelled clean. You could add a plugin for extra freshness. But other than that I had no complaints. The servers were patient and polite about me being indecisive about ALL the choices! XOXOXOXO\n",
            "\n",
            "Updated: always go for the customized cups/cones. As much as the specials looked like the better deal, some of them can be overwhelming of sweetness and portion. Fruity pebbles blended with vanilla, strawberry topping with strawberry drizzle has been my go to. I have brought many of my friends here and suggested this. First impressions aren't always what it seems, or in this case, what it always taste like\n",
            "\n",
            "This was such a cute ice cream shop. Two great things put together, ice cream and cereal. I love the concept, the different cartoons playing on different small screens on the wall was entertaining. I got the cookie crisp carnival! The staff was super friendly and helpful. I thought my cone came with cookie crisp cereal on top and once they saw I wasn't 100% happy with my order they asked if everything was okay , and then added the cereal on top for me. Thank you guys! I had a great time here :) can't wait to come bac\n",
            "\n",
            "Super tasty ice cream. I mean what else can I add to everyone else's review? It's all true! I tell all of my first time New Yorker friends to go here for dessert\n",
            "\n",
            "Must try: Froot Berry Bliss!Why: I got all my favorite cereals (Fruit Loops, Fruity Peebles, and Trix) mixed in the ice cream with strawberries and blueberries topped with Gummy Bears! It was large and I couldn't finish one myself so come to share. Note: Great service - the workers were all smiling and helpful. Neat setup inside with fun decor and various seating (diner style plus tables and seats/benches)\n",
            "Innovative way to get ice cream, with a cereal of your choice being crushed in it and yummy toppings to choose from. I got a standard cup and it costed me almost $9. I didn't think it was anything to write home about, so I don't think I'll be going back\n",
            "\n",
            "Beautiful retro looking shop that serves innovative ice cream with the nostalgia of cereals. Generous portions for the price. Satisfying ice cream so bring some friends and enjoy. Owners are from the area and super nice and glad to see they will be expanding to NJ\n",
            "\n",
            "\n",
            "\n",
            "\n"
          ],
          "name": "stdout"
        }
      ]
    },
    {
      "cell_type": "markdown",
      "metadata": {
        "id": "Uh0bltw5OgqG",
        "colab_type": "text"
      },
      "source": [
        "Finalmente, obtenemos con éxito todas las revisiones limpias con menos de 20 líneas de código.\n",
        "\n",
        "Aquí hay solo una demostración para scraping 20 comentarios de Yelp. Pero en casos reales, es posible que tengamos que enfrentar muchas otras situaciones. Por ejemplo, necesitaremos pasos como la paginación para ir a otras páginas y extraer los comentarios restantes de esta tienda. O también tendremos que extraer otra información como el nombre del revisor, la ubicación del revisor, el tiempo de revisión, la calificación, el check-in ……"
      ]
    },
    {
      "cell_type": "markdown",
      "metadata": {
        "id": "26c-EP4vNZo4",
        "colab_type": "text"
      },
      "source": [
        "Resource: https://medium.com/@melisa_40349/web-scraping-con-python-guía-paso-a-paso-d209f0dd44e4"
      ]
    }
  ]
}